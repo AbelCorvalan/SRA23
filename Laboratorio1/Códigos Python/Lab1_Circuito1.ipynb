{
 "cells": [
  {
   "cell_type": "code",
   "execution_count": 33,
   "metadata": {},
   "outputs": [],
   "source": [
    "#Laboratorio 1 - Circuito N° 1\n",
    "import numpy as np\n",
    "import sympy as sym\n",
    "import matplotlib.pyplot as plt"
   ]
  },
  {
   "cell_type": "code",
   "execution_count": 68,
   "metadata": {},
   "outputs": [
    {
     "data": {
      "text/latex": [
       "$\\displaystyle Rp = \\frac{R_{1} R_{4}}{R_{1} + R_{4}}$"
      ],
      "text/plain": [
       "Eq(Rp, R1*R4/(R1 + R4))"
      ]
     },
     "metadata": {},
     "output_type": "display_data"
    }
   ],
   "source": [
    "#Definimos variables del sistema\n",
    "sym.var('V1, V2')\n",
    "sym.var('V_o1, V_o2')\n",
    "sym.var('R1, R2, R3, R4, R5')\n",
    "sym.var('Rp')\n",
    "\n",
    "sym.var('I_R2, I_Rp, Ir2')\n",
    "#Para calcular la ganancia del circuito respecto a la fuente V1\n",
    "#consideramos las siguiente condiciones\n",
    "#V1!=0 y V2=0.\n",
    "\n",
    "Rparalelo= sym.fu((R1*R4)/(R1+R4))\n",
    "display(sym.Eq(Rp,sym.fu((R1*R4)/(R1+R4))))\n"
   ]
  }
 ],
 "metadata": {
  "kernelspec": {
   "display_name": "Python 3",
   "language": "python",
   "name": "python3"
  },
  "language_info": {
   "codemirror_mode": {
    "name": "ipython",
    "version": 3
   },
   "file_extension": ".py",
   "mimetype": "text/x-python",
   "name": "python",
   "nbconvert_exporter": "python",
   "pygments_lexer": "ipython3",
   "version": "3.11.8"
  }
 },
 "nbformat": 4,
 "nbformat_minor": 2
}
