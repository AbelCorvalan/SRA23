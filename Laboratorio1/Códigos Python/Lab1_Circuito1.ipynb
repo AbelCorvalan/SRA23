{
 "cells": [
  {
   "cell_type": "code",
   "execution_count": 33,
   "metadata": {},
   "outputs": [],
   "source": [
    "#Laboratorio 1 - Circuito N° 1\n",
    "import numpy as np\n",
    "import sympy as sym\n",
    "import matplotlib.pyplot as plt"
   ]
  },
  {
   "cell_type": "code",
   "execution_count": 89,
   "metadata": {},
   "outputs": [
    {
     "data": {
      "text/latex": [
       "$\\displaystyle \\frac{- V_{1} + V_{o1}}{R_{2}} = \\frac{V_{1}}{Rp}$"
      ],
      "text/plain": [
       "Eq((-V1 + V_o1)/R2, V1/Rp)"
      ]
     },
     "metadata": {},
     "output_type": "display_data"
    },
    {
     "ename": "TypeError",
     "evalue": "'Dict' object is not callable",
     "output_type": "error",
     "traceback": [
      "\u001b[1;31m---------------------------------------------------------------------------\u001b[0m",
      "\u001b[1;31mTypeError\u001b[0m                                 Traceback (most recent call last)",
      "Cell \u001b[1;32mIn[89], line 21\u001b[0m\n\u001b[0;32m     18\u001b[0m display(sym\u001b[38;5;241m.\u001b[39mEq(Ir2, Irp))\n\u001b[0;32m     20\u001b[0m Vo1\u001b[38;5;241m=\u001b[39m sym\u001b[38;5;241m.\u001b[39msimplify(sym\u001b[38;5;241m.\u001b[39mfactor(sym\u001b[38;5;241m.\u001b[39msolve((Ir2, Irp), V_o1), V_o1))\n\u001b[1;32m---> 21\u001b[0m \u001b[43mpretty\u001b[49m\u001b[43m(\u001b[49m\u001b[43mVo1\u001b[49m\u001b[43m)\u001b[49m\n",
      "\u001b[1;31mTypeError\u001b[0m: 'Dict' object is not callable"
     ]
    }
   ],
   "source": [
    "#Definimos variables del sistema\n",
    "sym.var('V1, V2')\n",
    "sym.var('V_o1, V_o2')\n",
    "sym.var('R1, R2, R3, R4, R5')\n",
    "sym.var('Rp')\n",
    "\n",
    "sym.var('I_R2, I_Rp, Ir2')\n",
    "#Para calcular la ganancia del circuito respecto a la fuente V1\n",
    "#consideramos las siguiente condiciones\n",
    "#V1!=0 y V2=0.\n",
    "\n",
    "Rparalelo= sym.fu((R1*R4)/(R1+R4))\n",
    "#display(sym.Eq(Rp, Rparalelo))\n",
    "\n",
    "Ir2= sym.fu((V_o1-V1)/(R2))\n",
    "Irp= sym.fu(V1/Rp)\n",
    "\n",
    "display(sym.Eq(Ir2, Irp))\n",
    "\n",
    "Vo1= sym.simplify(sym.factor(sym.solve((Ir2, Irp), V_o1), V_o1))\n"
   ]
  }
 ],
 "metadata": {
  "kernelspec": {
   "display_name": "Python 3",
   "language": "python",
   "name": "python3"
  },
  "language_info": {
   "codemirror_mode": {
    "name": "ipython",
    "version": 3
   },
   "file_extension": ".py",
   "mimetype": "text/x-python",
   "name": "python",
   "nbconvert_exporter": "python",
   "pygments_lexer": "ipython3",
   "version": "3.11.8"
  }
 },
 "nbformat": 4,
 "nbformat_minor": 2
}
