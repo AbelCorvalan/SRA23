{
 "cells": [
  {
   "cell_type": "markdown",
   "metadata": {},
   "source": [
    "# Laboratorio 1 - Circuito 1"
   ]
  },
  {
   "cell_type": "code",
   "execution_count": 80,
   "metadata": {},
   "outputs": [],
   "source": [
    "#Importo las librerías\n",
    "import numpy as np\n",
    "import sympy as sym\n",
    "import matplotlib.pyplot as plt"
   ]
  },
  {
   "cell_type": "code",
   "execution_count": 81,
   "metadata": {},
   "outputs": [
    {
     "data": {
      "text/latex": [
       "$\\displaystyle Vo_{1}$"
      ],
      "text/plain": [
       "Vo1"
      ]
     },
     "execution_count": 81,
     "metadata": {},
     "output_type": "execute_result"
    }
   ],
   "source": [
    "#Definimos variables del sistema\n",
    "sym.var('V_1, V_2')\n",
    "sym.var('V_o1, V_o2')\n",
    "sym.var('R1, R2, R3, R4, R5')\n",
    "sym.var('Rp')\n",
    "\n",
    "sym.var('I_R2, I_Rp')\n",
    "sym.var('Vo1')\n",
    "#sym.var('I_R2, I_Rp, Ir2')"
   ]
  },
  {
   "cell_type": "markdown",
   "metadata": {},
   "source": [
    "# Análisis Teórico con V1 != 0 y V2=0"
   ]
  },
  {
   "cell_type": "markdown",
   "metadata": {},
   "source": [
    "Para calcular la ganancia del circuito respecto a la fuente V_1\n",
    "consideramos las siguiente condiciones\n",
    "V_1!=0 y V2=0."
   ]
  },
  {
   "cell_type": "code",
   "execution_count": 91,
   "metadata": {},
   "outputs": [
    {
     "data": {
      "text/latex": [
       "$\\displaystyle \\frac{- V_{1} + V_{o1}}{R_{2}} = \\frac{V_{1}}{Rp}$"
      ],
      "text/plain": [
       "Eq((-V_1 + V_o1)/R2, V_1/Rp)"
      ]
     },
     "metadata": {},
     "output_type": "display_data"
    },
    {
     "name": "stdout",
     "output_type": "stream",
     "text": [
      "V_o1=  [V_1*(R2 + Rp)/Rp]\n"
     ]
    },
    {
     "data": {
      "text/latex": [
       "$\\displaystyle \\frac{V_{o1}}{V_{1}} = \\frac{R_{2} + Rp}{Rp}$"
      ],
      "text/plain": [
       "Eq(V_o1/V_1, (R2 + Rp)/Rp)"
      ]
     },
     "metadata": {},
     "output_type": "display_data"
    }
   ],
   "source": [
    "Rparalelo= sym.fu((R1*R4)/(R1+R4))\n",
    "#display(sym.Eq(Rp, Rparalelo))\n",
    "\n",
    "Ir2= sym.fu((V_o1-V_1)/(R2))\n",
    "Irp= sym.fu(V_1/Rp)\n",
    "\n",
    "display(sym.Eq(Ir2, Irp))\n",
    "#display(sym.Eq(Ir2, Irp))\n",
    "\n",
    "#Solution\n",
    "\n",
    "Vo1= sym.solve(sym.Eq(Ir2, Irp), V_o1)\n",
    "print(\"V_o1= \", Vo1)\n",
    "\n",
    "display(sym.Eq(V_o1/V_1, (R2 + Rp)/Rp))\n"
   ]
  },
  {
   "cell_type": "code",
   "execution_count": null,
   "metadata": {},
   "outputs": [],
   "source": []
  }
 ],
 "metadata": {
  "kernelspec": {
   "display_name": "Python 3",
   "language": "python",
   "name": "python3"
  },
  "language_info": {
   "codemirror_mode": {
    "name": "ipython",
    "version": 3
   },
   "file_extension": ".py",
   "mimetype": "text/x-python",
   "name": "python",
   "nbconvert_exporter": "python",
   "pygments_lexer": "ipython3",
   "version": "3.11.8"
  }
 },
 "nbformat": 4,
 "nbformat_minor": 2
}
