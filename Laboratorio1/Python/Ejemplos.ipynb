{
 "cells": [
  {
   "cell_type": "markdown",
   "metadata": {},
   "source": [
    "# Ejemplos de librería Sympy"
   ]
  },
  {
   "cell_type": "markdown",
   "metadata": {},
   "source": [
    "### Escribir una función"
   ]
  },
  {
   "cell_type": "markdown",
   "metadata": {},
   "source": [
    "En este caso vamos a ver como se escribe una función con variables <b>simbólicas</b>."
   ]
  },
  {
   "cell_type": "code",
   "execution_count": 13,
   "metadata": {},
   "outputs": [],
   "source": [
    "import sympy as sym\n",
    "import numpy as num\n",
    "\n",
    "V1, V2= sym.symbols('V_1, V_2')\n",
    "R1, R2= sym.symbols('R1, R2')\n",
    "I1, I2= sym.symbols('I_1, I_2')"
   ]
  },
  {
   "cell_type": "markdown",
   "metadata": {},
   "source": []
  },
  {
   "cell_type": "code",
   "execution_count": 18,
   "metadata": {},
   "outputs": [
    {
     "name": "stdout",
     "output_type": "stream",
     "text": [
      "V₁   R₁   V₁\n",
      "── = ── + ──\n",
      "V₂   R₂   V₂\n"
     ]
    }
   ],
   "source": [
    "I0= sym.Function('I_0')(V1, V2)\n",
    "\n",
    "eq_I0= sym.Eq(I0, I1+I2)\n",
    "\n",
    "I1= V1/V2\n",
    "I2= R1/R2\n",
    "\n",
    "equ= sym.Eq(I1, I1 + I2)\n",
    "sym.pprint(equ)"
   ]
  }
 ],
 "metadata": {
  "kernelspec": {
   "display_name": "Python 3",
   "language": "python",
   "name": "python3"
  },
  "language_info": {
   "codemirror_mode": {
    "name": "ipython",
    "version": 3
   },
   "file_extension": ".py",
   "mimetype": "text/x-python",
   "name": "python",
   "nbconvert_exporter": "python",
   "pygments_lexer": "ipython3",
   "version": "3.11.8"
  }
 },
 "nbformat": 4,
 "nbformat_minor": 2
}
