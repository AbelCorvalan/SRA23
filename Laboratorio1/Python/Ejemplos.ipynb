{
 "cells": [
  {
   "cell_type": "markdown",
   "metadata": {},
   "source": [
    "# Ejemplos de librería Sympy"
   ]
  },
  {
   "cell_type": "markdown",
   "metadata": {},
   "source": [
    "### Escribir una función"
   ]
  },
  {
   "cell_type": "markdown",
   "metadata": {},
   "source": [
    "En este caso vamos a ver como se escribe una función con variables <b>simbólicas</b>."
   ]
  },
  {
   "cell_type": "code",
   "execution_count": 5,
   "metadata": {},
   "outputs": [],
   "source": [
    "import sympy as sym\n",
    "import numpy as num\n",
    "\n",
    "V1, V2= sym.symbols('V_1, V_2')\n",
    "R1, R2= sym.symbols('R1, R2')\n",
    "I0, I1, I2= sym.symbols('I_0, I_1, I_2')"
   ]
  },
  {
   "cell_type": "code",
   "execution_count": 9,
   "metadata": {},
   "outputs": [
    {
     "name": "stdout",
     "output_type": "stream",
     "text": [
      "             R₁   V₁\n",
      "I₀(V₁, V₂) = ── + ──\n",
      "             R₂   V₂\n",
      "V₁   R₁   V₁\n",
      "── = ── + ──\n",
      "V₂   R₂   V₂\n"
     ]
    }
   ],
   "source": [
    "I0= sym.Function('I_0')(V1, V2)\n",
    "\n",
    "eq_I0= sym.Eq(I0, I1+I2)\n",
    "sym.pprint(eq_I0)\n",
    "\n",
    "I1= V1/V2\n",
    "I2= R1/R2\n",
    "\n",
    "equ= sym.Eq(I1, I1 + I2)\n",
    "sym.pprint(equ)"
   ]
  },
  {
   "cell_type": "code",
   "execution_count": null,
   "metadata": {},
   "outputs": [],
   "source": [
    "#Ejemplo para imprimir en LaTeX.\n",
    "\n",
    "import sympy as sym\n",
    "from IPython.display import display, Latex\n",
    "# Cargo las variables del circuito. \n",
    "V1, V2= sym.symbols('V_{1}, V_{2}')\n",
    "R1, R2, R3, R4, R5= sym.symbols('R_{1}, R_{2}, R_{3}, R_{4}, R_{5}')\n",
    "\n",
    "# Cargo las variables particulares del caso de estudio.\n",
    "Rp, Ir2, Irp, Vo1= sym.symbols('R_{p}, I_{R2}, I_{Rp}, V_{o1}')\n",
    "\n",
    "#Vo1 = sym.Function('Vo1')(V1,V2)\n",
    "\n",
    "V1= 2*Ir2\n",
    "V2= 3*Irp\n",
    "#Vo1= V1/V2\n",
    "Vo1= sym.Eq(Vo1, V1/V2)\n",
    "sym.print_latex(Vo1)\n",
    "\n",
    "#display(Latex(latex_str))\n",
    "\n",
    "########################### Despejar\n",
    "\n",
    "#sym.apart(func, variable)"
   ]
  }
 ],
 "metadata": {
  "kernelspec": {
   "display_name": "Python 3",
   "language": "python",
   "name": "python3"
  },
  "language_info": {
   "codemirror_mode": {
    "name": "ipython",
    "version": 3
   },
   "file_extension": ".py",
   "mimetype": "text/x-python",
   "name": "python",
   "nbconvert_exporter": "python",
   "pygments_lexer": "ipython3",
   "version": "3.10.12"
  }
 },
 "nbformat": 4,
 "nbformat_minor": 2
}
