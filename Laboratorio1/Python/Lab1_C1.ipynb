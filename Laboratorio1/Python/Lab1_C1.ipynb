{
 "cells": [
  {
   "cell_type": "markdown",
   "metadata": {},
   "source": [
    "# Laboratorio 1 - Circuito 1"
   ]
  },
  {
   "cell_type": "code",
   "execution_count": 1,
   "metadata": {},
   "outputs": [],
   "source": [
    "#Importo las librerías\n",
    "import numpy as np\n",
    "import sympy as sym\n",
    "from sympy import abc\n",
    "import matplotlib.pyplot as plt"
   ]
  },
  {
   "cell_type": "code",
   "execution_count": 2,
   "metadata": {},
   "outputs": [
    {
     "data": {
      "text/plain": [
       "(A_v1, A_v2)"
      ]
     },
     "execution_count": 2,
     "metadata": {},
     "output_type": "execute_result"
    }
   ],
   "source": [
    "#Definimos variables del sistema\n",
    "sym.var('V_1, V_2')\n",
    "sym.var('V_o1, V_o2')\n",
    "sym.var('R1, R2, R3, R4, R5')\n",
    "sym.var('Rp')\n",
    "\n",
    "sym.var('I_R2, I_Rp')\n",
    "sym.var('A_v1, A_v2')"
   ]
  },
  {
   "cell_type": "markdown",
   "metadata": {},
   "source": [
    "# Análisis teórico con V1!=0 y V2=0."
   ]
  },
  {
   "cell_type": "markdown",
   "metadata": {},
   "source": [
    "Para calcular la ganancia del circuito respecto a la fuente V_1\n",
    "consideramos las siguiente condiciones\n",
    "V_1!=0 y V2=0."
   ]
  },
  {
   "cell_type": "code",
   "execution_count": 3,
   "metadata": {},
   "outputs": [
    {
     "name": "stdout",
     "output_type": "stream",
     "text": [
      "Se aplica la Ley de corrientes de Kirchhoff\n",
      "V₁⋅(R₁ + R₄)\n",
      "────────────\n",
      "   R₁⋅R₄    \n"
     ]
    }
   ],
   "source": [
    "#Solution Vo1 ALTERNATIVO\n",
    "print(\"Se aplica la Ley de corrientes de Kirchhoff\")\n",
    "Rp= (R1*R4)/(R1+R4)\n",
    "\n",
    "Ir2= ((V_o1-V_1)/(R2))\n",
    "Irp= (V_1/Rp)\n",
    "\n",
    "sym.pprint(Irp)\n",
    "\n",
    "Vo1= sym.solve(sym.Eq(Ir2, Irp), V_o1)\n",
    "\n",
    "#Solution Vo2\n",
    "Ir3= (V_o2)/(R3)\n",
    "Ir5= V_o1/(R5)\n",
    "\n",
    "#equ= sym.Eq(Ir3, Ir5)"
   ]
  },
  {
   "cell_type": "markdown",
   "metadata": {},
   "source": [
    "# Análisis teórico V1=0 y V2!=0"
   ]
  }
 ],
 "metadata": {
  "kernelspec": {
   "display_name": "Python 3",
   "language": "python",
   "name": "python3"
  },
  "language_info": {
   "codemirror_mode": {
    "name": "ipython",
    "version": 3
   },
   "file_extension": ".py",
   "mimetype": "text/x-python",
   "name": "python",
   "nbconvert_exporter": "python",
   "pygments_lexer": "ipython3",
   "version": "3.10.12"
  }
 },
 "nbformat": 4,
 "nbformat_minor": 2
}
