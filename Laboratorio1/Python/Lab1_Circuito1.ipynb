{
 "cells": [
  {
   "cell_type": "markdown",
   "metadata": {},
   "source": [
    "# Laboratorio 1 - Circuito 1"
   ]
  },
  {
   "cell_type": "code",
   "execution_count": 48,
   "metadata": {},
   "outputs": [],
   "source": [
    "#Importo las librerías\n",
    "import numpy as np\n",
    "import sympy as sym\n",
    "from sympy import abc\n",
    "import matplotlib.pyplot as plt"
   ]
  },
  {
   "cell_type": "code",
   "execution_count": 3,
   "metadata": {},
   "outputs": [
    {
     "data": {
      "text/plain": [
       "(A_v1, A_v2)"
      ]
     },
     "execution_count": 3,
     "metadata": {},
     "output_type": "execute_result"
    }
   ],
   "source": [
    "#Definimos variables del sistema\n",
    "sym.var('V_1, V_2')\n",
    "sym.var('V_o1, V_o2')\n",
    "sym.var('R1, R2, R3, R4, R5')\n",
    "sym.var('Rp')\n",
    "\n",
    "sym.var('I_R2, I_Rp')\n",
    "sym.var('A_v1, A_v2')"
   ]
  },
  {
   "cell_type": "markdown",
   "metadata": {},
   "source": [
    "# Análisis teórico con V1!=0 y V2=0."
   ]
  },
  {
   "cell_type": "markdown",
   "metadata": {},
   "source": [
    "Para calcular la ganancia del circuito respecto a la fuente V_1\n",
    "consideramos las siguiente condiciones\n",
    "V_1!=0 y V2=0."
   ]
  },
  {
   "cell_type": "code",
   "execution_count": 4,
   "metadata": {},
   "outputs": [
    {
     "name": "stdout",
     "output_type": "stream",
     "text": [
      "Se aplica la Ley de corrientes de Kirchhoff\n"
     ]
    },
    {
     "data": {
      "text/latex": [
       "$\\displaystyle \\frac{- V_{1} + V_{o1}}{R_{2}} = \\frac{V_{1}}{Rp}$"
      ],
      "text/plain": [
       "Eq((-V_1 + V_o1)/R2, V_1/Rp)"
      ]
     },
     "metadata": {},
     "output_type": "display_data"
    },
    {
     "name": "stdout",
     "output_type": "stream",
     "text": [
      "Solución Vo1\n",
      "V_o1=  [V_1*(R2 + Rp)/Rp]\n"
     ]
    },
    {
     "data": {
      "text/latex": [
       "$\\displaystyle V_{o1} = \\frac{V_{1} \\left(R_{2} + Rp\\right)}{Rp}$"
      ],
      "text/plain": [
       "Eq(V_o1, V_1*(R2 + Rp)/Rp)"
      ]
     },
     "metadata": {},
     "output_type": "display_data"
    },
    {
     "name": "stdout",
     "output_type": "stream",
     "text": [
      "Se aplica la Ley de corrientes de Kirchhoff\n"
     ]
    },
    {
     "data": {
      "text/latex": [
       "$\\displaystyle \\frac{V_{o2}}{R_{3}} = - \\frac{V_{o1}}{R_{5}}$"
      ],
      "text/plain": [
       "Eq(V_o2/R3, -V_o1/R5)"
      ]
     },
     "metadata": {},
     "output_type": "display_data"
    },
    {
     "name": "stdout",
     "output_type": "stream",
     "text": [
      "Solución Vo2\n",
      "V_o2=  [-R3*V_o1/R5]\n"
     ]
    },
    {
     "data": {
      "text/latex": [
       "$\\displaystyle V_{o2} = - \\frac{R_{3} V_{o1}}{R_{5}}$"
      ],
      "text/plain": [
       "Eq(V_o2, -R3*V_o1/R5)"
      ]
     },
     "metadata": {},
     "output_type": "display_data"
    }
   ],
   "source": [
    "#Solution Vo1\n",
    "print(\"Se aplica la Ley de corrientes de Kirchhoff\")\n",
    "Rparalelo= sym.fu((R1*R4)/(R1+R4))\n",
    "\n",
    "Ir2= sym.fu((V_o1-V_1)/(R2))\n",
    "Irp= sym.fu(V_1/Rp)\n",
    "\n",
    "display(sym.Eq(Ir2, Irp))\n",
    "\n",
    "print(\"Solución Vo1\")\n",
    "Vo1= sym.solve(sym.Eq(Ir2, Irp), V_o1)\n",
    "print(\"V_o1= \", Vo1)\n",
    "\n",
    "display(sym.Eq(V_o1, V_1*(R2 + Rp)/Rp))\n",
    "\n",
    "print(\"Se aplica la Ley de corrientes de Kirchhoff\")\n",
    "#Solution Vo2\n",
    "Ir3= sym.fu((V_o2-0)/R3)\n",
    "Ir5= sym.fu((0-V_o1)/R5)\n",
    "\n",
    "display(sym.Eq(Ir3, Ir5))\n",
    "\n",
    "print(\"Solución Vo2\")\n",
    "Vo2= sym.solve(sym.Eq(Ir3, Ir5), V_o2)\n",
    "print(\"V_o2= \", Vo2)\n",
    "\n",
    "display(sym.Eq(V_o2, -V_o1*(R3/R5)))"
   ]
  },
  {
   "cell_type": "code",
   "execution_count": 65,
   "metadata": {},
   "outputs": [
    {
     "name": "stdout",
     "output_type": "stream",
     "text": [
      "Tenemos entonces que la ganancia Av1 será: \n"
     ]
    },
    {
     "data": {
      "text/latex": [
       "$\\displaystyle A_{v1} = \\frac{V_{o2}}{V_{1}}$"
      ],
      "text/plain": [
       "Eq(A_v1, V_o2/V_1)"
      ]
     },
     "metadata": {},
     "output_type": "display_data"
    }
   ],
   "source": [
    "print('Tenemos entonces que la ganancia Av1 será: ')\n",
    "\n",
    "display(sym.Eq(A_v1, (V_o2/V_1)))\n",
    "\n"
   ]
  },
  {
   "cell_type": "markdown",
   "metadata": {},
   "source": [
    "# Análisis teórico V1=0 y V2!=0"
   ]
  }
 ],
 "metadata": {
  "kernelspec": {
   "display_name": "Python 3",
   "language": "python",
   "name": "python3"
  },
  "language_info": {
   "codemirror_mode": {
    "name": "ipython",
    "version": 3
   },
   "file_extension": ".py",
   "mimetype": "text/x-python",
   "name": "python",
   "nbconvert_exporter": "python",
   "pygments_lexer": "ipython3",
   "version": "3.11.8"
  }
 },
 "nbformat": 4,
 "nbformat_minor": 2
}
